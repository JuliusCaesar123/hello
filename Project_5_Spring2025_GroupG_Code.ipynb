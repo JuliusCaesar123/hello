{
  "nbformat": 4,
  "nbformat_minor": 0,
  "metadata": {
    "colab": {
      "provenance": [],
      "include_colab_link": true
    },
    "kernelspec": {
      "name": "python3",
      "display_name": "Python 3"
    },
    "language_info": {
      "name": "python"
    }
  },
  "cells": [
    {
      "cell_type": "markdown",
      "metadata": {
        "id": "view-in-github",
        "colab_type": "text"
      },
      "source": [
        "<a href=\"https://colab.research.google.com/github/JuliusCaesar123/hello/blob/main/Project_5_Spring2025_GroupG_Code.ipynb\" target=\"_parent\"><img src=\"https://colab.research.google.com/assets/colab-badge.svg\" alt=\"Open In Colab\"/></a>"
      ]
    },
    {
      "cell_type": "code",
      "execution_count": null,
      "metadata": {
        "id": "fkItsxnq6V1K"
      },
      "outputs": [],
      "source": [
        "import pandas as pd\n",
        "import numpy as np\n",
        "import matplotlib.pyplot as plt"
      ]
    },
    {
      "cell_type": "code",
      "source": [
        "### Target Amounts\n",
        "A = float(input(\"Weight of cement per yd^3 (lb): \"))\n",
        "B = float(input(\"Weight of Fly Ash per yd^3 (lb): \"))\n",
        "C = float(input(\"Weight of Sillica Fume per yd^3 (lb): \"))\n",
        "D = float(input(\"Weight of other SCM per yd^3 (lb): \"))\n",
        "E = float(input(\"Target Water/Cement Ratio: \"))\n",
        "F = float(input(\"Target % Air Content: \"))\n",
        "G = float(input(\"Target % Fine Aggregate: \"))\n",
        "H = float(input(\"Coarse Aggregate: \"))\n",
        "I = float(input(\"Other Aggregate: \"))\n",
        "# Specific Gravities\n",
        "J = float(input(\"Specific Gravity of Cement: \"))\n",
        "K = float(input(\"Specific Gravity of Fly Ash: \"))\n",
        "L = float(input(\"Specific Gravity of Silica Fume: \"))\n",
        "M = float(input(\"Specific Gravity of SCM: \"))\n",
        "N = float(input(\"Specific Gravity of Fine Aggregate: \"))\n",
        "O = float(input(\"Specific Gravity of Coarse Aggregate: \"))\n",
        "P = float(input(\"Specific Gravity of Other Aggregate: \"))"
      ],
      "metadata": {
        "colab": {
          "base_uri": "https://localhost:8080/"
        },
        "id": "WaJ2NfQ36cDO",
        "outputId": "93e41ffe-c1a2-482c-d3aa-8027cb7ecf7c"
      },
      "execution_count": null,
      "outputs": [
        {
          "name": "stdout",
          "output_type": "stream",
          "text": [
            "Weight of cement per yd^3 (lb): 3\n",
            "Weight of Fly Ash per yd^3 (lb): 3\n",
            "Weight of Sillica Fume per yd^3 (lb): 3\n",
            "Weight of other SCM per yd^3 (lb): 3\n",
            "Target Water/Cement Ratio: 3\n",
            "Target % Air Content: 3\n",
            "Target % Fine Aggregate: 3\n",
            "Coarse Aggregate: 3\n",
            "Other Aggregate: 3\n",
            "Specific Gravity of Cement: 3\n",
            "Specific Gravity of Fly Ash: 3\n",
            "Specific Gravity of Silica Fume: 3\n",
            "Specific Gravity of SCM: 3\n",
            "Specific Gravity of Fine Aggregate: 3\n",
            "Specific Gravity of Coarse Aggregate: 3\n",
            "Specific Gravity of Other Aggregate: 3\n"
          ]
        }
      ]
    },
    {
      "cell_type": "code",
      "source": [
        "#Calculations\n",
        "\n",
        "#Weight of water\n",
        "Q = (A + B + C) * E\n",
        "\n",
        "#Volumes\n",
        "R = A / (J * 62.4)\n",
        "S = B / (K * 62.4)\n",
        "T = C / (L * 62.4)\n",
        "U = D / (M * 62.4)\n",
        "V = (F / 100) * 27\n",
        "W = Q / 62.4\n",
        "\n",
        "# Volume of total Aggregate\n",
        "X = 27 - R - S - T - U - V - W\n",
        "\n",
        "#Weight of Fine Aggregates\n",
        "Y = (62.4 * (G / 100) * N) * X\n",
        "Z = (62.4 * (H / 100) *O) * X\n",
        "AA = (62.4 * (I / 100) * P) *X\n"
      ],
      "metadata": {
        "id": "hbwH13Iv6n2-"
      },
      "execution_count": null,
      "outputs": []
    },
    {
      "cell_type": "code",
      "source": [
        "#Output Results\n",
        "print(\"\\n--- CALCULATED OUTPUTS ---\")\n",
        "print(f\"Weight of Water (Q): {Q:.2f} lb\")\n",
        "print(f\"Volume of Cement (R): {R:.2f} ft^3\")\n",
        "print(f\"Volume of Fly Ash (S): {S:.2f} ft^3\")\n",
        "print(f\"Volume of Silica Fume (T): {T:.2f} ft^3\")\n",
        "print(f\"Volume of Other SCM (U): {U:.2f} ft^3\")\n",
        "print(f\"Volume of Air (V): {V:.2f} ft^3\")\n",
        "print(f\"Volume of Water (W): {W:.2f} ft^3\")\n",
        "print(f\"Volume of Total Aggregate (X): {X:.2f} ft^3\")\n",
        "print(f\"Volume of Fine Aggregate (Y): {Y:.2f} lb\")\n",
        "print(f\"Volume of Coarse Aggregate (Z): {Z:.2f} lb\")\n",
        "print(f\"Volume of Other Aggregate (AA): {AA:.2f} lb\")"
      ],
      "metadata": {
        "colab": {
          "base_uri": "https://localhost:8080/"
        },
        "id": "iuffUi3k6ujh",
        "outputId": "d26bdee0-b03d-4690-c4f9-0f8672529bb4"
      },
      "execution_count": null,
      "outputs": [
        {
          "output_type": "stream",
          "name": "stdout",
          "text": [
            "\n",
            "--- CALCULATED OUTPUTS ---\n",
            "Weight of Water (Q): 27.00 lb\n",
            "Volume of Cement (R): 0.02 ft^3\n",
            "Volume of Fly Ash (S): 0.02 ft^3\n",
            "Volume of Silica Fume (T): 0.02 ft^3\n",
            "Volume of Other SCM (U): 0.02 ft^3\n",
            "Volume of Air (V): 0.81 ft^3\n",
            "Volume of Water (W): 0.43 ft^3\n",
            "Volume of Total Aggregate (X): 25.69 ft^3\n",
            "Volume of Fine Aggregate (Y): 144.29 lb\n",
            "Volume of Coarse Aggregate (Z): 144.29 lb\n",
            "Volume of Other Aggregate (AA): 144.29 lb\n"
          ]
        }
      ]
    },
    {
      "cell_type": "code",
      "source": [
        "# mix data for four mixes\n",
        "mix1 = [C1, F1, S1, O1, A1, W1]\n",
        "mix2 = [C2, F2, S2, O2, A2, W2]\n",
        "mix3 = [C3, F3, S3, O3, A3, W3]\n",
        "mix4 = [C4, F4, S4, O4, A4, W4]\n",
        "\n",
        "mixes = [mix1, mix2, mix3, mix4]\n",
        "labels = ['Cement', 'Fly Ash', 'Silica Fume', 'Other SCM', 'Air', 'Water']\n",
        "\n",
        "# Create 2x2 subplot grid\n",
        "fig, axs = plt.subplots(2, 2, figsize=(12, 10))\n",
        "\n",
        "# First pie chart (top-left)\n",
        "axs[0][0].pie(mix1, labels=labels, startangle=90)\n",
        "axs[0][0].set_title('Mix 1')\n",
        "\n",
        "# Second pie chart (top-right)\n",
        "axs[0][1].pie(mix2, labels=labels, startangle=90)\n",
        "axs[0][1].set_title('Mix 2')\n",
        "\n",
        "# Third pie chart (bottom-left)\n",
        "axs[1][0].pie(mix3, labels=labels, startangle=90)\n",
        "axs[1][0].set_title('Mix 3')\n",
        "\n",
        "# Fourth pie chart (bottom-right)\n",
        "axs[1][1].pie(mix4, labels=labels, startangle=90)\n",
        "axs[1][1].set_title('Mix 4')\n",
        "\n",
        "# Set the overall title and show\n",
        "plt.suptitle('Concrete Mix Pie Charts')\n",
        "plt.show()\n"
      ],
      "metadata": {
        "id": "PDMv8__c62gC"
      },
      "execution_count": null,
      "outputs": []
    },
    {
      "cell_type": "code",
      "source": [],
      "metadata": {
        "id": "TDZuURU162Tq"
      },
      "execution_count": null,
      "outputs": []
    },
    {
      "cell_type": "code",
      "source": [],
      "metadata": {
        "id": "e1PAKtMI618e"
      },
      "execution_count": null,
      "outputs": []
    }
  ]
}